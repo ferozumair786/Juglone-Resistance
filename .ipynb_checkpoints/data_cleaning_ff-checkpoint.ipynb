{
 "cells": [
  {
   "cell_type": "code",
   "execution_count": 1,
   "metadata": {},
   "outputs": [],
   "source": [
    "import pandas as pd"
   ]
  },
  {
   "cell_type": "code",
   "execution_count": 2,
   "metadata": {},
   "outputs": [],
   "source": [
    "#Falling Fruit Data from:\n",
    "# https://www.fallingfruit.org/data?c=forager%2Cfreegan&locale=en\n",
    "#used BZ2 to ZIP converter https://cloudconvert.com/bz2-to-zip"
   ]
  },
  {
   "cell_type": "code",
   "execution_count": 3,
   "metadata": {},
   "outputs": [],
   "source": [
    "#import types data\n",
    "types_df = pd.read_csv('Resources/types.csv/types.csv')"
   ]
  },
  {
   "cell_type": "code",
   "execution_count": 4,
   "metadata": {},
   "outputs": [],
   "source": [
    "#there are dumpsters listed on there and we don't want those\n",
    "types_df = types_df[types_df['en_name'] != 'Dumpster (edible)']"
   ]
  },
  {
   "cell_type": "code",
   "execution_count": 5,
   "metadata": {},
   "outputs": [
    {
     "data": {
      "text/html": [
       "<div>\n",
       "<style scoped>\n",
       "    .dataframe tbody tr th:only-of-type {\n",
       "        vertical-align: middle;\n",
       "    }\n",
       "\n",
       "    .dataframe tbody tr th {\n",
       "        vertical-align: top;\n",
       "    }\n",
       "\n",
       "    .dataframe thead th {\n",
       "        text-align: right;\n",
       "    }\n",
       "</style>\n",
       "<table border=\"1\" class=\"dataframe\">\n",
       "  <thead>\n",
       "    <tr style=\"text-align: right;\">\n",
       "      <th></th>\n",
       "      <th>type_ids</th>\n",
       "      <th>parent_id</th>\n",
       "      <th>scientific_name</th>\n",
       "      <th>en_name</th>\n",
       "      <th>en_wikipedia_url</th>\n",
       "    </tr>\n",
       "  </thead>\n",
       "  <tbody>\n",
       "    <tr>\n",
       "      <th>0</th>\n",
       "      <td>1</td>\n",
       "      <td>285.0</td>\n",
       "      <td>Prunus</td>\n",
       "      <td>Plum</td>\n",
       "      <td>http://en.wikipedia.org/wiki/Plum</td>\n",
       "    </tr>\n",
       "    <tr>\n",
       "      <th>2</th>\n",
       "      <td>3</td>\n",
       "      <td>263.0</td>\n",
       "      <td>Citrus x sinensis</td>\n",
       "      <td>Orange</td>\n",
       "      <td>http://en.wikipedia.org/wiki/Citrus_sinensis</td>\n",
       "    </tr>\n",
       "    <tr>\n",
       "      <th>3</th>\n",
       "      <td>4</td>\n",
       "      <td>263.0</td>\n",
       "      <td>Citrus x limon</td>\n",
       "      <td>Lemon</td>\n",
       "      <td>http://en.wikipedia.org/wiki/Citrus_limon</td>\n",
       "    </tr>\n",
       "    <tr>\n",
       "      <th>4</th>\n",
       "      <td>5</td>\n",
       "      <td>263.0</td>\n",
       "      <td>Citrus x paradisi</td>\n",
       "      <td>Grapefruit</td>\n",
       "      <td>http://en.wikipedia.org/wiki/Citrus_paradisi</td>\n",
       "    </tr>\n",
       "    <tr>\n",
       "      <th>5</th>\n",
       "      <td>7</td>\n",
       "      <td>NaN</td>\n",
       "      <td>Persea americana</td>\n",
       "      <td>Avocado</td>\n",
       "      <td>http://en.wikipedia.org/wiki/Persea_americana</td>\n",
       "    </tr>\n",
       "  </tbody>\n",
       "</table>\n",
       "</div>"
      ],
      "text/plain": [
       "   type_ids  parent_id    scientific_name     en_name  \\\n",
       "0         1      285.0             Prunus        Plum   \n",
       "2         3      263.0  Citrus x sinensis      Orange   \n",
       "3         4      263.0     Citrus x limon       Lemon   \n",
       "4         5      263.0  Citrus x paradisi  Grapefruit   \n",
       "5         7        NaN   Persea americana     Avocado   \n",
       "\n",
       "                                en_wikipedia_url  \n",
       "0              http://en.wikipedia.org/wiki/Plum  \n",
       "2   http://en.wikipedia.org/wiki/Citrus_sinensis  \n",
       "3      http://en.wikipedia.org/wiki/Citrus_limon  \n",
       "4   http://en.wikipedia.org/wiki/Citrus_paradisi  \n",
       "5  http://en.wikipedia.org/wiki/Persea_americana  "
      ]
     },
     "execution_count": 5,
     "metadata": {},
     "output_type": "execute_result"
    }
   ],
   "source": [
    "##select fewer columns\n",
    "types_df = types_df[['id', 'parent_id', 'scientific_name', 'en_name', 'en_wikipedia_url']]\n",
    "types_df = types_df.rename(columns={'id': 'type_ids'})\n",
    "types_df.dropna()\n",
    "types_df.head()"
   ]
  },
  {
   "cell_type": "code",
   "execution_count": 6,
   "metadata": {},
   "outputs": [],
   "source": [
    "#change type for merge\n",
    "types_df['type_ids'] = types_df['type_ids'].astype('str')"
   ]
  },
  {
   "cell_type": "code",
   "execution_count": 7,
   "metadata": {},
   "outputs": [],
   "source": [
    "#this file is huge, with data for the entire world\n",
    "locations_df = pd.read_csv('Resources/locations.csv/locations.csv', low_memory=False)"
   ]
  },
  {
   "cell_type": "code",
   "execution_count": 8,
   "metadata": {},
   "outputs": [
    {
     "data": {
      "text/html": [
       "<div>\n",
       "<style scoped>\n",
       "    .dataframe tbody tr th:only-of-type {\n",
       "        vertical-align: middle;\n",
       "    }\n",
       "\n",
       "    .dataframe tbody tr th {\n",
       "        vertical-align: top;\n",
       "    }\n",
       "\n",
       "    .dataframe thead th {\n",
       "        text-align: right;\n",
       "    }\n",
       "</style>\n",
       "<table border=\"1\" class=\"dataframe\">\n",
       "  <thead>\n",
       "    <tr style=\"text-align: right;\">\n",
       "      <th></th>\n",
       "      <th>id</th>\n",
       "      <th>type_ids</th>\n",
       "      <th>lat</th>\n",
       "      <th>lon</th>\n",
       "    </tr>\n",
       "  </thead>\n",
       "  <tbody>\n",
       "    <tr>\n",
       "      <th>0</th>\n",
       "      <td>22</td>\n",
       "      <td>3</td>\n",
       "      <td>37.409849</td>\n",
       "      <td>-122.137529</td>\n",
       "    </tr>\n",
       "    <tr>\n",
       "      <th>1</th>\n",
       "      <td>23</td>\n",
       "      <td>8</td>\n",
       "      <td>37.412087</td>\n",
       "      <td>-122.140182</td>\n",
       "    </tr>\n",
       "    <tr>\n",
       "      <th>2</th>\n",
       "      <td>24</td>\n",
       "      <td>4</td>\n",
       "      <td>37.412043</td>\n",
       "      <td>-122.139700</td>\n",
       "    </tr>\n",
       "    <tr>\n",
       "      <th>3</th>\n",
       "      <td>25</td>\n",
       "      <td>3</td>\n",
       "      <td>37.411562</td>\n",
       "      <td>-122.139288</td>\n",
       "    </tr>\n",
       "    <tr>\n",
       "      <th>4</th>\n",
       "      <td>26</td>\n",
       "      <td>4</td>\n",
       "      <td>37.411252</td>\n",
       "      <td>-122.138862</td>\n",
       "    </tr>\n",
       "  </tbody>\n",
       "</table>\n",
       "</div>"
      ],
      "text/plain": [
       "   id type_ids        lat         lon\n",
       "0  22        3  37.409849 -122.137529\n",
       "1  23        8  37.412087 -122.140182\n",
       "2  24        4  37.412043 -122.139700\n",
       "3  25        3  37.411562 -122.139288\n",
       "4  26        4  37.411252 -122.138862"
      ]
     },
     "execution_count": 8,
     "metadata": {},
     "output_type": "execute_result"
    }
   ],
   "source": [
    "#select necessary columns\n",
    "locations_df = locations_df[['id', 'type_ids', 'lat', 'lng']]\n",
    "#get latitude and longitude\n",
    "locations_df = locations_df.rename(columns={'lng': 'lon'})\n",
    "# Drop na values\n",
    "locations_df.dropna()\n",
    "locations_df.head()"
   ]
  },
  {
   "cell_type": "code",
   "execution_count": 9,
   "metadata": {},
   "outputs": [],
   "source": [
    "# Initial limit of Austin, TX dataset: NW 30.308660, -97.756688 and SE 30.261570, -97.736784\n",
    "# Limits of final dataset should include all of Austin: NW 30.529060, -97.788274 and SE 30.030380, -97.668365"
   ]
  },
  {
   "cell_type": "code",
   "execution_count": 10,
   "metadata": {},
   "outputs": [
    {
     "name": "stderr",
     "output_type": "stream",
     "text": [
      "C:\\Users\\ukhakoo\\Anaconda3\\lib\\site-packages\\ipykernel_launcher.py:5: UserWarning: Boolean Series key will be reindexed to match DataFrame index.\n",
      "  \"\"\"\n"
     ]
    }
   ],
   "source": [
    "# Latitude filter\n",
    "tst_locations_df = locations_df[locations_df['lat'].between(30.261570, 30.308660, inclusive=True)]\n",
    "\n",
    "# Longitude filter\n",
    "tst_locations_df = tst_locations_df[locations_df['lon'].between(-97.756688, -97.736784, inclusive=True)]"
   ]
  },
  {
   "cell_type": "code",
   "execution_count": 11,
   "metadata": {},
   "outputs": [
    {
     "data": {
      "text/plain": [
       "id          2005\n",
       "type_ids    2004\n",
       "lat         2005\n",
       "lon         2005\n",
       "dtype: int64"
      ]
     },
     "execution_count": 11,
     "metadata": {},
     "output_type": "execute_result"
    }
   ],
   "source": [
    "tst_locations_df.count()"
   ]
  },
  {
   "cell_type": "code",
   "execution_count": 12,
   "metadata": {},
   "outputs": [],
   "source": [
    "test_df = tst_locations_df.merge(types_df, how='inner', on='type_ids')"
   ]
  },
  {
   "cell_type": "code",
   "execution_count": 13,
   "metadata": {},
   "outputs": [],
   "source": [
    "test_df.to_csv('small_dataset.csv')"
   ]
  },
  {
   "cell_type": "code",
   "execution_count": null,
   "metadata": {},
   "outputs": [],
   "source": []
  }
 ],
 "metadata": {
  "kernelspec": {
   "display_name": "Python 3",
   "language": "python",
   "name": "python3"
  },
  "language_info": {
   "codemirror_mode": {
    "name": "ipython",
    "version": 3
   },
   "file_extension": ".py",
   "mimetype": "text/x-python",
   "name": "python",
   "nbconvert_exporter": "python",
   "pygments_lexer": "ipython3",
   "version": "3.7.3"
  }
 },
 "nbformat": 4,
 "nbformat_minor": 2
}
