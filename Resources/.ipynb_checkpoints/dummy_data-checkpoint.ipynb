{
 "cells": [
  {
   "cell_type": "code",
   "execution_count": 1,
   "metadata": {},
   "outputs": [],
   "source": [
    "import pandas as pd"
   ]
  },
  {
   "cell_type": "code",
   "execution_count": 2,
   "metadata": {},
   "outputs": [],
   "source": [
    "full_df = pd.read_csv('fulldataset.csv')"
   ]
  },
  {
   "cell_type": "code",
   "execution_count": 3,
   "metadata": {},
   "outputs": [
    {
     "data": {
      "text/html": [
       "<div>\n",
       "<style scoped>\n",
       "    .dataframe tbody tr th:only-of-type {\n",
       "        vertical-align: middle;\n",
       "    }\n",
       "\n",
       "    .dataframe tbody tr th {\n",
       "        vertical-align: top;\n",
       "    }\n",
       "\n",
       "    .dataframe thead th {\n",
       "        text-align: right;\n",
       "    }\n",
       "</style>\n",
       "<table border=\"1\" class=\"dataframe\">\n",
       "  <thead>\n",
       "    <tr style=\"text-align: right;\">\n",
       "      <th></th>\n",
       "      <th>scientific_name</th>\n",
       "      <th>en_name</th>\n",
       "      <th>lat</th>\n",
       "      <th>lon</th>\n",
       "    </tr>\n",
       "  </thead>\n",
       "  <tbody>\n",
       "    <tr>\n",
       "      <th>0</th>\n",
       "      <td>Sapindus</td>\n",
       "      <td>Soapberry</td>\n",
       "      <td>30.228193</td>\n",
       "      <td>-97.757248</td>\n",
       "    </tr>\n",
       "    <tr>\n",
       "      <th>1</th>\n",
       "      <td>Allium</td>\n",
       "      <td>Onion</td>\n",
       "      <td>30.327974</td>\n",
       "      <td>-97.758644</td>\n",
       "    </tr>\n",
       "    <tr>\n",
       "      <th>2</th>\n",
       "      <td>Allium</td>\n",
       "      <td>Onion</td>\n",
       "      <td>30.249392</td>\n",
       "      <td>-97.713647</td>\n",
       "    </tr>\n",
       "    <tr>\n",
       "      <th>3</th>\n",
       "      <td>Allium</td>\n",
       "      <td>Onion</td>\n",
       "      <td>30.446912</td>\n",
       "      <td>-97.757219</td>\n",
       "    </tr>\n",
       "    <tr>\n",
       "      <th>4</th>\n",
       "      <td>Allium</td>\n",
       "      <td>Onion</td>\n",
       "      <td>30.288013</td>\n",
       "      <td>-97.763354</td>\n",
       "    </tr>\n",
       "  </tbody>\n",
       "</table>\n",
       "</div>"
      ],
      "text/plain": [
       "  scientific_name    en_name        lat        lon\n",
       "0        Sapindus  Soapberry  30.228193 -97.757248\n",
       "1          Allium      Onion  30.327974 -97.758644\n",
       "2          Allium      Onion  30.249392 -97.713647\n",
       "3          Allium      Onion  30.446912 -97.757219\n",
       "4          Allium      Onion  30.288013 -97.763354"
      ]
     },
     "execution_count": 3,
     "metadata": {},
     "output_type": "execute_result"
    }
   ],
   "source": [
    "full_df.head()"
   ]
  },
  {
   "cell_type": "code",
   "execution_count": 7,
   "metadata": {},
   "outputs": [],
   "source": [
    "juglandacae_df = full_df[full_df['scientific_name'].str.startswith('Juglans') | full_df['scientific_name'].str.startswith('Carya')]"
   ]
  },
  {
   "cell_type": "code",
   "execution_count": 8,
   "metadata": {},
   "outputs": [
    {
     "data": {
      "text/html": [
       "<div>\n",
       "<style scoped>\n",
       "    .dataframe tbody tr th:only-of-type {\n",
       "        vertical-align: middle;\n",
       "    }\n",
       "\n",
       "    .dataframe tbody tr th {\n",
       "        vertical-align: top;\n",
       "    }\n",
       "\n",
       "    .dataframe thead th {\n",
       "        text-align: right;\n",
       "    }\n",
       "</style>\n",
       "<table border=\"1\" class=\"dataframe\">\n",
       "  <thead>\n",
       "    <tr style=\"text-align: right;\">\n",
       "      <th></th>\n",
       "      <th>scientific_name</th>\n",
       "      <th>en_name</th>\n",
       "      <th>lat</th>\n",
       "      <th>lon</th>\n",
       "    </tr>\n",
       "  </thead>\n",
       "  <tbody>\n",
       "    <tr>\n",
       "      <th>113</th>\n",
       "      <td>Carya illinoinensis</td>\n",
       "      <td>Pecan</td>\n",
       "      <td>30.224958</td>\n",
       "      <td>-97.751884</td>\n",
       "    </tr>\n",
       "    <tr>\n",
       "      <th>114</th>\n",
       "      <td>Carya illinoinensis</td>\n",
       "      <td>Pecan</td>\n",
       "      <td>30.242811</td>\n",
       "      <td>-97.749863</td>\n",
       "    </tr>\n",
       "    <tr>\n",
       "      <th>115</th>\n",
       "      <td>Carya illinoinensis</td>\n",
       "      <td>Pecan</td>\n",
       "      <td>30.257641</td>\n",
       "      <td>-97.753250</td>\n",
       "    </tr>\n",
       "    <tr>\n",
       "      <th>116</th>\n",
       "      <td>Carya illinoinensis</td>\n",
       "      <td>Pecan</td>\n",
       "      <td>30.264034</td>\n",
       "      <td>-97.696658</td>\n",
       "    </tr>\n",
       "    <tr>\n",
       "      <th>117</th>\n",
       "      <td>Carya illinoinensis</td>\n",
       "      <td>Pecan</td>\n",
       "      <td>30.258724</td>\n",
       "      <td>-97.705455</td>\n",
       "    </tr>\n",
       "  </tbody>\n",
       "</table>\n",
       "</div>"
      ],
      "text/plain": [
       "         scientific_name en_name        lat        lon\n",
       "113  Carya illinoinensis   Pecan  30.224958 -97.751884\n",
       "114  Carya illinoinensis   Pecan  30.242811 -97.749863\n",
       "115  Carya illinoinensis   Pecan  30.257641 -97.753250\n",
       "116  Carya illinoinensis   Pecan  30.264034 -97.696658\n",
       "117  Carya illinoinensis   Pecan  30.258724 -97.705455"
      ]
     },
     "execution_count": 8,
     "metadata": {},
     "output_type": "execute_result"
    }
   ],
   "source": [
    "juglandacae_df.head()"
   ]
  },
  {
   "cell_type": "code",
   "execution_count": null,
   "metadata": {},
   "outputs": [],
   "source": []
  }
 ],
 "metadata": {
  "kernelspec": {
   "display_name": "Python 3",
   "language": "python",
   "name": "python3"
  },
  "language_info": {
   "codemirror_mode": {
    "name": "ipython",
    "version": 3
   },
   "file_extension": ".py",
   "mimetype": "text/x-python",
   "name": "python",
   "nbconvert_exporter": "python",
   "pygments_lexer": "ipython3",
   "version": "3.7.3"
  }
 },
 "nbformat": 4,
 "nbformat_minor": 2
}
