{
 "cells": [
  {
   "cell_type": "markdown",
   "metadata": {},
   "source": [
    "# Scrape www.mortonarb.org for Common & Scientific Names"
   ]
  },
  {
   "cell_type": "code",
   "execution_count": 1,
   "metadata": {},
   "outputs": [],
   "source": [
    "# import libraries\n",
    "import pandas as pd\n",
    "import numpy as np\n",
    "from bs4 import BeautifulSoup\n",
    "import pymongo\n",
    "from splinter import Browser"
   ]
  },
  {
   "cell_type": "markdown",
   "metadata": {},
   "source": [
    "## Scrape for Data"
   ]
  },
  {
   "cell_type": "code",
   "execution_count": 2,
   "metadata": {},
   "outputs": [],
   "source": [
    "# launch chrome driver\n",
    "executable_path = {'executable_path': '/Users/prettyvo/Desktop/chromedriver'}\n",
    "browser = Browser('chrome', **executable_path, headless=True)"
   ]
  },
  {
   "cell_type": "code",
   "execution_count": 3,
   "metadata": {},
   "outputs": [],
   "source": [
    "# connect browser to url and parse data images of the titles and summaries\n",
    "juglone_url = \"https://www.mortonarb.org/trees-plants/tree-and-plant-advice/horticulture-care/plants-tolerant-black-walnut-toxicity\"\n",
    "browser.visit(juglone_url)\n",
    "html = browser.html\n",
    "site = BeautifulSoup(html, 'html.parser')"
   ]
  },
  {
   "cell_type": "code",
   "execution_count": 59,
   "metadata": {},
   "outputs": [],
   "source": [
    "# pull main column\n",
    "main_column = site.find_all('div', class_='field-item even')\n",
    "\n",
    "# create empty list to append to \n",
    "p_sets = []\n",
    "\n",
    "# find all p tags in the column\n",
    "for tag in main_column:\n",
    "    p_sets.append(tag.find_all('p'))\n",
    "    \n",
    "# select first tag which holds the desired table\n",
    "main_p_tag = p_sets[0]\n",
    "\n",
    "# pull text from the table\n",
    "text = [p_tag.text for p_tag in main_p_tag]\n",
    "\n",
    "# splice list to desired data\n",
    "table = text[17:]"
   ]
  },
  {
   "cell_type": "markdown",
   "metadata": {},
   "source": [
    "## Clean Single Data"
   ]
  },
  {
   "cell_type": "code",
   "execution_count": 70,
   "metadata": {},
   "outputs": [],
   "source": [
    "# clean the data for a single set \n",
    "test_data = table[0]\n",
    "test_data_split = test_data.split('\\xa0')\n",
    "\n",
    "# create lists to hold names\n",
    "common_name = []\n",
    "scientific_name = []\n",
    "\n",
    "# add to list\n",
    "common_name.append(test_data_split[0])\n",
    "\n",
    "# loop through the data \n",
    "for i in range(1,len(test_data_split)):\n",
    "    if (test_data_split[i] != \" \" and test_data_split[i] != \"\"):\n",
    "        scientific_name.append(test_data_split[i])\n",
    "print(common_name)\n",
    "print(scientific_name)"
   ]
  },
  {
   "cell_type": "markdown",
   "metadata": {},
   "source": [
    "## Apply to Entire Data Set"
   ]
  },
  {
   "cell_type": "code",
   "execution_count": 120,
   "metadata": {},
   "outputs": [],
   "source": [
    "# create lists to hold names\n",
    "common_name = []\n",
    "scientific_name = []\n",
    "\n",
    "# loop over the data\n",
    "for data in table:\n",
    "    test_data_split = data.split('\\xa0')\n",
    "\n",
    "    # add to list\n",
    "    if (test_data_split[0] != \"\" and test_data_split[0] != \" \"):\n",
    "        first_in_list = test_data_split[0]\n",
    "        if first_in_list.isupper() == False:\n",
    "            common_name.append(test_data_split[0])\n",
    "\n",
    "    # loop through the data \n",
    "    for i in range(1,len(test_data_split)):\n",
    "        if (test_data_split[i] != \" \" and test_data_split[i] != \"\"):\n",
    "            scientific_name.append(test_data_split[i])\n",
    "            break\n"
   ]
  },
  {
   "cell_type": "markdown",
   "metadata": {},
   "source": [
    "## Create DataFrame"
   ]
  },
  {
   "cell_type": "code",
   "execution_count": 123,
   "metadata": {},
   "outputs": [
    {
     "data": {
      "text/html": [
       "<div>\n",
       "<style scoped>\n",
       "    .dataframe tbody tr th:only-of-type {\n",
       "        vertical-align: middle;\n",
       "    }\n",
       "\n",
       "    .dataframe tbody tr th {\n",
       "        vertical-align: top;\n",
       "    }\n",
       "\n",
       "    .dataframe thead th {\n",
       "        text-align: right;\n",
       "    }\n",
       "</style>\n",
       "<table border=\"1\" class=\"dataframe\">\n",
       "  <thead>\n",
       "    <tr style=\"text-align: right;\">\n",
       "      <th></th>\n",
       "      <th>common_name</th>\n",
       "      <th>scientific_name</th>\n",
       "    </tr>\n",
       "  </thead>\n",
       "  <tbody>\n",
       "    <tr>\n",
       "      <th>0</th>\n",
       "      <td>Box elder</td>\n",
       "      <td>Acer negundo</td>\n",
       "    </tr>\n",
       "    <tr>\n",
       "      <th>1</th>\n",
       "      <td>Japanese maple</td>\n",
       "      <td>Acer palmatum &amp; cvs.</td>\n",
       "    </tr>\n",
       "    <tr>\n",
       "      <th>2</th>\n",
       "      <td>Red maple</td>\n",
       "      <td>Acer rubrum</td>\n",
       "    </tr>\n",
       "    <tr>\n",
       "      <th>3</th>\n",
       "      <td>Sugar maple</td>\n",
       "      <td>Acer saccharum</td>\n",
       "    </tr>\n",
       "    <tr>\n",
       "      <th>4</th>\n",
       "      <td>Ohio buckeye</td>\n",
       "      <td>Aesculus glabra</td>\n",
       "    </tr>\n",
       "  </tbody>\n",
       "</table>\n",
       "</div>"
      ],
      "text/plain": [
       "       common_name       scientific_name\n",
       "0       Box elder           Acer negundo\n",
       "1  Japanese maple   Acer palmatum & cvs.\n",
       "2        Red maple           Acer rubrum\n",
       "3      Sugar maple        Acer saccharum\n",
       "4     Ohio buckeye       Aesculus glabra"
      ]
     },
     "execution_count": 123,
     "metadata": {},
     "output_type": "execute_result"
    }
   ],
   "source": [
    "# create dataframe\n",
    "df = pd.DataFrame()\n",
    "df['common_name'] = common_name\n",
    "df['scientific_name'] = scientific_name\n",
    "df.head()"
   ]
  },
  {
   "cell_type": "markdown",
   "metadata": {},
   "source": [
    "## Save to a DataBase"
   ]
  },
  {
   "cell_type": "code",
   "execution_count": 124,
   "metadata": {},
   "outputs": [],
   "source": [
    "# Import Dependencies\n",
    "import sqlalchemy\n",
    "from sqlalchemy.ext.automap import automap_base\n",
    "from sqlalchemy.orm import Session\n",
    "from sqlalchemy import create_engine\n",
    "from sqlalchemy import func, inspect, Table, Column, Integer, String, MetaData"
   ]
  },
  {
   "cell_type": "code",
   "execution_count": 125,
   "metadata": {},
   "outputs": [],
   "source": [
    "db_uri = 'sqlite:///../db/common_scientific_names.db'\n",
    "engine = create_engine(db_uri, echo=False)\n",
    "conn = engine.connect()"
   ]
  },
  {
   "cell_type": "code",
   "execution_count": 126,
   "metadata": {},
   "outputs": [],
   "source": [
    "df.to_sql('common_scientific_names', con=engine, if_exists='replace')"
   ]
  },
  {
   "cell_type": "code",
   "execution_count": 128,
   "metadata": {},
   "outputs": [],
   "source": [
    "df_from_db = pd.read_sql_table('common_scientific_names',conn, index_col='index')"
   ]
  },
  {
   "cell_type": "code",
   "execution_count": 129,
   "metadata": {},
   "outputs": [
    {
     "data": {
      "text/html": [
       "<div>\n",
       "<style scoped>\n",
       "    .dataframe tbody tr th:only-of-type {\n",
       "        vertical-align: middle;\n",
       "    }\n",
       "\n",
       "    .dataframe tbody tr th {\n",
       "        vertical-align: top;\n",
       "    }\n",
       "\n",
       "    .dataframe thead th {\n",
       "        text-align: right;\n",
       "    }\n",
       "</style>\n",
       "<table border=\"1\" class=\"dataframe\">\n",
       "  <thead>\n",
       "    <tr style=\"text-align: right;\">\n",
       "      <th></th>\n",
       "      <th>common_name</th>\n",
       "      <th>scientific_name</th>\n",
       "    </tr>\n",
       "    <tr>\n",
       "      <th>index</th>\n",
       "      <th></th>\n",
       "      <th></th>\n",
       "    </tr>\n",
       "  </thead>\n",
       "  <tbody>\n",
       "    <tr>\n",
       "      <th>0</th>\n",
       "      <td>Box elder</td>\n",
       "      <td>Acer negundo</td>\n",
       "    </tr>\n",
       "    <tr>\n",
       "      <th>1</th>\n",
       "      <td>Japanese maple</td>\n",
       "      <td>Acer palmatum &amp; cvs.</td>\n",
       "    </tr>\n",
       "    <tr>\n",
       "      <th>2</th>\n",
       "      <td>Red maple</td>\n",
       "      <td>Acer rubrum</td>\n",
       "    </tr>\n",
       "    <tr>\n",
       "      <th>3</th>\n",
       "      <td>Sugar maple</td>\n",
       "      <td>Acer saccharum</td>\n",
       "    </tr>\n",
       "    <tr>\n",
       "      <th>4</th>\n",
       "      <td>Ohio buckeye</td>\n",
       "      <td>Aesculus glabra</td>\n",
       "    </tr>\n",
       "  </tbody>\n",
       "</table>\n",
       "</div>"
      ],
      "text/plain": [
       "           common_name       scientific_name\n",
       "index                                       \n",
       "0           Box elder           Acer negundo\n",
       "1      Japanese maple   Acer palmatum & cvs.\n",
       "2            Red maple           Acer rubrum\n",
       "3          Sugar maple        Acer saccharum\n",
       "4         Ohio buckeye       Aesculus glabra"
      ]
     },
     "execution_count": 129,
     "metadata": {},
     "output_type": "execute_result"
    }
   ],
   "source": [
    "df_from_db.head()"
   ]
  },
  {
   "cell_type": "code",
   "execution_count": null,
   "metadata": {},
   "outputs": [],
   "source": []
  }
 ],
 "metadata": {
  "kernelspec": {
   "display_name": "Python 3",
   "language": "python",
   "name": "python3"
  },
  "language_info": {
   "codemirror_mode": {
    "name": "ipython",
    "version": 3
   },
   "file_extension": ".py",
   "mimetype": "text/x-python",
   "name": "python",
   "nbconvert_exporter": "python",
   "pygments_lexer": "ipython3",
   "version": "3.7.2"
  }
 },
 "nbformat": 4,
 "nbformat_minor": 2
}
