{
 "cells": [
  {
   "cell_type": "code",
   "execution_count": 1,
   "metadata": {},
   "outputs": [],
   "source": [
    "import pandas as pd"
   ]
  },
  {
   "cell_type": "code",
   "execution_count": 2,
   "metadata": {},
   "outputs": [],
   "source": [
    "full_df = pd.read_csv('fulldataset.csv')"
   ]
  },
  {
   "cell_type": "code",
   "execution_count": 3,
   "metadata": {},
   "outputs": [
    {
     "data": {
      "text/html": [
       "<div>\n",
       "<style scoped>\n",
       "    .dataframe tbody tr th:only-of-type {\n",
       "        vertical-align: middle;\n",
       "    }\n",
       "\n",
       "    .dataframe tbody tr th {\n",
       "        vertical-align: top;\n",
       "    }\n",
       "\n",
       "    .dataframe thead th {\n",
       "        text-align: right;\n",
       "    }\n",
       "</style>\n",
       "<table border=\"1\" class=\"dataframe\">\n",
       "  <thead>\n",
       "    <tr style=\"text-align: right;\">\n",
       "      <th></th>\n",
       "      <th>scientific_name</th>\n",
       "      <th>en_name</th>\n",
       "      <th>lat</th>\n",
       "      <th>lon</th>\n",
       "    </tr>\n",
       "  </thead>\n",
       "  <tbody>\n",
       "    <tr>\n",
       "      <th>0</th>\n",
       "      <td>Sapindus</td>\n",
       "      <td>Soapberry</td>\n",
       "      <td>30.228193</td>\n",
       "      <td>-97.757248</td>\n",
       "    </tr>\n",
       "    <tr>\n",
       "      <th>1</th>\n",
       "      <td>Allium</td>\n",
       "      <td>Onion</td>\n",
       "      <td>30.327974</td>\n",
       "      <td>-97.758644</td>\n",
       "    </tr>\n",
       "    <tr>\n",
       "      <th>2</th>\n",
       "      <td>Allium</td>\n",
       "      <td>Onion</td>\n",
       "      <td>30.249392</td>\n",
       "      <td>-97.713647</td>\n",
       "    </tr>\n",
       "    <tr>\n",
       "      <th>3</th>\n",
       "      <td>Allium</td>\n",
       "      <td>Onion</td>\n",
       "      <td>30.446912</td>\n",
       "      <td>-97.757219</td>\n",
       "    </tr>\n",
       "    <tr>\n",
       "      <th>4</th>\n",
       "      <td>Allium</td>\n",
       "      <td>Onion</td>\n",
       "      <td>30.288013</td>\n",
       "      <td>-97.763354</td>\n",
       "    </tr>\n",
       "  </tbody>\n",
       "</table>\n",
       "</div>"
      ],
      "text/plain": [
       "  scientific_name    en_name        lat        lon\n",
       "0        Sapindus  Soapberry  30.228193 -97.757248\n",
       "1          Allium      Onion  30.327974 -97.758644\n",
       "2          Allium      Onion  30.249392 -97.713647\n",
       "3          Allium      Onion  30.446912 -97.757219\n",
       "4          Allium      Onion  30.288013 -97.763354"
      ]
     },
     "execution_count": 3,
     "metadata": {},
     "output_type": "execute_result"
    }
   ],
   "source": [
    "full_df.head()"
   ]
  },
  {
   "cell_type": "code",
   "execution_count": 25,
   "metadata": {},
   "outputs": [],
   "source": [
    "juglandacae_df = full_df[(full_df['en_name'] == 'Walnut') | (full_df['en_name'] == 'Pecan') | (full_df['en_name'] == 'Hickory')]"
   ]
  },
  {
   "cell_type": "code",
   "execution_count": 26,
   "metadata": {},
   "outputs": [
    {
     "data": {
      "text/html": [
       "<div>\n",
       "<style scoped>\n",
       "    .dataframe tbody tr th:only-of-type {\n",
       "        vertical-align: middle;\n",
       "    }\n",
       "\n",
       "    .dataframe tbody tr th {\n",
       "        vertical-align: top;\n",
       "    }\n",
       "\n",
       "    .dataframe thead th {\n",
       "        text-align: right;\n",
       "    }\n",
       "</style>\n",
       "<table border=\"1\" class=\"dataframe\">\n",
       "  <thead>\n",
       "    <tr style=\"text-align: right;\">\n",
       "      <th></th>\n",
       "      <th>scientific_name</th>\n",
       "      <th>en_name</th>\n",
       "      <th>lat</th>\n",
       "      <th>lon</th>\n",
       "    </tr>\n",
       "  </thead>\n",
       "  <tbody>\n",
       "    <tr>\n",
       "      <th>113</th>\n",
       "      <td>Carya illinoinensis</td>\n",
       "      <td>Pecan</td>\n",
       "      <td>30.224958</td>\n",
       "      <td>-97.751884</td>\n",
       "    </tr>\n",
       "    <tr>\n",
       "      <th>114</th>\n",
       "      <td>Carya illinoinensis</td>\n",
       "      <td>Pecan</td>\n",
       "      <td>30.242811</td>\n",
       "      <td>-97.749863</td>\n",
       "    </tr>\n",
       "    <tr>\n",
       "      <th>115</th>\n",
       "      <td>Carya illinoinensis</td>\n",
       "      <td>Pecan</td>\n",
       "      <td>30.257641</td>\n",
       "      <td>-97.753250</td>\n",
       "    </tr>\n",
       "    <tr>\n",
       "      <th>116</th>\n",
       "      <td>Carya illinoinensis</td>\n",
       "      <td>Pecan</td>\n",
       "      <td>30.264034</td>\n",
       "      <td>-97.696658</td>\n",
       "    </tr>\n",
       "    <tr>\n",
       "      <th>117</th>\n",
       "      <td>Carya illinoinensis</td>\n",
       "      <td>Pecan</td>\n",
       "      <td>30.258724</td>\n",
       "      <td>-97.705455</td>\n",
       "    </tr>\n",
       "  </tbody>\n",
       "</table>\n",
       "</div>"
      ],
      "text/plain": [
       "         scientific_name en_name        lat        lon\n",
       "113  Carya illinoinensis   Pecan  30.224958 -97.751884\n",
       "114  Carya illinoinensis   Pecan  30.242811 -97.749863\n",
       "115  Carya illinoinensis   Pecan  30.257641 -97.753250\n",
       "116  Carya illinoinensis   Pecan  30.264034 -97.696658\n",
       "117  Carya illinoinensis   Pecan  30.258724 -97.705455"
      ]
     },
     "execution_count": 26,
     "metadata": {},
     "output_type": "execute_result"
    }
   ],
   "source": [
    "juglandacae_df.head()"
   ]
  },
  {
   "cell_type": "code",
   "execution_count": 30,
   "metadata": {},
   "outputs": [],
   "source": [
    "other_df = full_df[(full_df['en_name'] != 'Walnut') & (full_df['en_name'] != 'Pecan') & (full_df['en_name'] != 'Hickory')]"
   ]
  },
  {
   "cell_type": "code",
   "execution_count": 31,
   "metadata": {},
   "outputs": [
    {
     "data": {
      "text/html": [
       "<div>\n",
       "<style scoped>\n",
       "    .dataframe tbody tr th:only-of-type {\n",
       "        vertical-align: middle;\n",
       "    }\n",
       "\n",
       "    .dataframe tbody tr th {\n",
       "        vertical-align: top;\n",
       "    }\n",
       "\n",
       "    .dataframe thead th {\n",
       "        text-align: right;\n",
       "    }\n",
       "</style>\n",
       "<table border=\"1\" class=\"dataframe\">\n",
       "  <thead>\n",
       "    <tr style=\"text-align: right;\">\n",
       "      <th></th>\n",
       "      <th>scientific_name</th>\n",
       "      <th>en_name</th>\n",
       "      <th>lat</th>\n",
       "      <th>lon</th>\n",
       "    </tr>\n",
       "  </thead>\n",
       "  <tbody>\n",
       "    <tr>\n",
       "      <th>0</th>\n",
       "      <td>Sapindus</td>\n",
       "      <td>Soapberry</td>\n",
       "      <td>30.228193</td>\n",
       "      <td>-97.757248</td>\n",
       "    </tr>\n",
       "    <tr>\n",
       "      <th>1</th>\n",
       "      <td>Allium</td>\n",
       "      <td>Onion</td>\n",
       "      <td>30.327974</td>\n",
       "      <td>-97.758644</td>\n",
       "    </tr>\n",
       "    <tr>\n",
       "      <th>2</th>\n",
       "      <td>Allium</td>\n",
       "      <td>Onion</td>\n",
       "      <td>30.249392</td>\n",
       "      <td>-97.713647</td>\n",
       "    </tr>\n",
       "    <tr>\n",
       "      <th>3</th>\n",
       "      <td>Allium</td>\n",
       "      <td>Onion</td>\n",
       "      <td>30.446912</td>\n",
       "      <td>-97.757219</td>\n",
       "    </tr>\n",
       "    <tr>\n",
       "      <th>4</th>\n",
       "      <td>Allium</td>\n",
       "      <td>Onion</td>\n",
       "      <td>30.288013</td>\n",
       "      <td>-97.763354</td>\n",
       "    </tr>\n",
       "  </tbody>\n",
       "</table>\n",
       "</div>"
      ],
      "text/plain": [
       "  scientific_name    en_name        lat        lon\n",
       "0        Sapindus  Soapberry  30.228193 -97.757248\n",
       "1          Allium      Onion  30.327974 -97.758644\n",
       "2          Allium      Onion  30.249392 -97.713647\n",
       "3          Allium      Onion  30.446912 -97.757219\n",
       "4          Allium      Onion  30.288013 -97.763354"
      ]
     },
     "execution_count": 31,
     "metadata": {},
     "output_type": "execute_result"
    }
   ],
   "source": [
    "other_df.head()"
   ]
  },
  {
   "cell_type": "code",
   "execution_count": 44,
   "metadata": {},
   "outputs": [
    {
     "name": "stderr",
     "output_type": "stream",
     "text": [
      "C:\\Users\\ukhakoo\\Anaconda3\\lib\\site-packages\\ipykernel_launcher.py:3: SettingWithCopyWarning: \n",
      "A value is trying to be set on a copy of a slice from a DataFrame.\n",
      "Try using .loc[row_indexer,col_indexer] = value instead\n",
      "\n",
      "See the caveats in the documentation: http://pandas.pydata.org/pandas-docs/stable/indexing.html#indexing-view-versus-copy\n",
      "  This is separate from the ipykernel package so we can avoid doing imports until\n"
     ]
    }
   ],
   "source": [
    "import numpy as np\n",
    "distance_ft = np.random.uniform(low=0.00, high=1000.00, size = len(other_df['scientific_name']))\n",
    "other_df['distance_ft'] = distance_ft"
   ]
  },
  {
   "cell_type": "code",
   "execution_count": 45,
   "metadata": {},
   "outputs": [],
   "source": [
    "juglandacae = []\n",
    "resistance = []\n",
    "for index, row in other_df.iterrows():\n",
    "    if index%2 == 0:\n",
    "        juglandacae.append('Juglans')\n",
    "    else:\n",
    "        juglandacae.append('Carya')\n",
    "    if row['distance_ft'] <= 50.00:\n",
    "        resistance.append(1)\n",
    "    else:\n",
    "        resistance.append(0)"
   ]
  },
  {
   "cell_type": "code",
   "execution_count": 46,
   "metadata": {},
   "outputs": [
    {
     "name": "stderr",
     "output_type": "stream",
     "text": [
      "C:\\Users\\ukhakoo\\Anaconda3\\lib\\site-packages\\ipykernel_launcher.py:1: SettingWithCopyWarning: \n",
      "A value is trying to be set on a copy of a slice from a DataFrame.\n",
      "Try using .loc[row_indexer,col_indexer] = value instead\n",
      "\n",
      "See the caveats in the documentation: http://pandas.pydata.org/pandas-docs/stable/indexing.html#indexing-view-versus-copy\n",
      "  \"\"\"Entry point for launching an IPython kernel.\n",
      "C:\\Users\\ukhakoo\\Anaconda3\\lib\\site-packages\\ipykernel_launcher.py:2: SettingWithCopyWarning: \n",
      "A value is trying to be set on a copy of a slice from a DataFrame.\n",
      "Try using .loc[row_indexer,col_indexer] = value instead\n",
      "\n",
      "See the caveats in the documentation: http://pandas.pydata.org/pandas-docs/stable/indexing.html#indexing-view-versus-copy\n",
      "  \n"
     ]
    }
   ],
   "source": [
    "other_df['juglandacae'] = juglandacae\n",
    "other_df['resistance'] = resistance"
   ]
  },
  {
   "cell_type": "code",
   "execution_count": 52,
   "metadata": {},
   "outputs": [
    {
     "data": {
      "text/html": [
       "<div>\n",
       "<style scoped>\n",
       "    .dataframe tbody tr th:only-of-type {\n",
       "        vertical-align: middle;\n",
       "    }\n",
       "\n",
       "    .dataframe tbody tr th {\n",
       "        vertical-align: top;\n",
       "    }\n",
       "\n",
       "    .dataframe thead th {\n",
       "        text-align: right;\n",
       "    }\n",
       "</style>\n",
       "<table border=\"1\" class=\"dataframe\">\n",
       "  <thead>\n",
       "    <tr style=\"text-align: right;\">\n",
       "      <th></th>\n",
       "      <th>scientific_name</th>\n",
       "      <th>en_name</th>\n",
       "      <th>lat</th>\n",
       "      <th>lon</th>\n",
       "      <th>juglandacae</th>\n",
       "      <th>distance_df</th>\n",
       "      <th>distance_ft</th>\n",
       "      <th>resistance</th>\n",
       "    </tr>\n",
       "  </thead>\n",
       "  <tbody>\n",
       "    <tr>\n",
       "      <th>0</th>\n",
       "      <td>Sapindus</td>\n",
       "      <td>Soapberry</td>\n",
       "      <td>30.228193</td>\n",
       "      <td>-97.757248</td>\n",
       "      <td>Juglans</td>\n",
       "      <td>508.368463</td>\n",
       "      <td>820.831060</td>\n",
       "      <td>0</td>\n",
       "    </tr>\n",
       "    <tr>\n",
       "      <th>1</th>\n",
       "      <td>Allium</td>\n",
       "      <td>Onion</td>\n",
       "      <td>30.327974</td>\n",
       "      <td>-97.758644</td>\n",
       "      <td>Carya</td>\n",
       "      <td>343.223112</td>\n",
       "      <td>287.732482</td>\n",
       "      <td>0</td>\n",
       "    </tr>\n",
       "    <tr>\n",
       "      <th>2</th>\n",
       "      <td>Allium</td>\n",
       "      <td>Onion</td>\n",
       "      <td>30.249392</td>\n",
       "      <td>-97.713647</td>\n",
       "      <td>Juglans</td>\n",
       "      <td>539.657157</td>\n",
       "      <td>691.125887</td>\n",
       "      <td>0</td>\n",
       "    </tr>\n",
       "    <tr>\n",
       "      <th>3</th>\n",
       "      <td>Allium</td>\n",
       "      <td>Onion</td>\n",
       "      <td>30.446912</td>\n",
       "      <td>-97.757219</td>\n",
       "      <td>Carya</td>\n",
       "      <td>66.025112</td>\n",
       "      <td>179.340274</td>\n",
       "      <td>0</td>\n",
       "    </tr>\n",
       "    <tr>\n",
       "      <th>4</th>\n",
       "      <td>Allium</td>\n",
       "      <td>Onion</td>\n",
       "      <td>30.288013</td>\n",
       "      <td>-97.763354</td>\n",
       "      <td>Juglans</td>\n",
       "      <td>25.247945</td>\n",
       "      <td>128.337027</td>\n",
       "      <td>0</td>\n",
       "    </tr>\n",
       "  </tbody>\n",
       "</table>\n",
       "</div>"
      ],
      "text/plain": [
       "  scientific_name    en_name        lat        lon juglandacae  distance_df  \\\n",
       "0        Sapindus  Soapberry  30.228193 -97.757248     Juglans   508.368463   \n",
       "1          Allium      Onion  30.327974 -97.758644       Carya   343.223112   \n",
       "2          Allium      Onion  30.249392 -97.713647     Juglans   539.657157   \n",
       "3          Allium      Onion  30.446912 -97.757219       Carya    66.025112   \n",
       "4          Allium      Onion  30.288013 -97.763354     Juglans    25.247945   \n",
       "\n",
       "   distance_ft  resistance  \n",
       "0   820.831060           0  \n",
       "1   287.732482           0  \n",
       "2   691.125887           0  \n",
       "3   179.340274           0  \n",
       "4   128.337027           0  "
      ]
     },
     "execution_count": 52,
     "metadata": {},
     "output_type": "execute_result"
    }
   ],
   "source": [
    "other_df.head()"
   ]
  },
  {
   "cell_type": "code",
   "execution_count": 53,
   "metadata": {},
   "outputs": [],
   "source": [
    "machinelearning_df = other_df[['scientific_name', 'distance_ft', 'juglandacae', 'resistance']]"
   ]
  },
  {
   "cell_type": "code",
   "execution_count": 54,
   "metadata": {},
   "outputs": [],
   "source": [
    "machinelearning_df.to_csv('dummydata.csv')"
   ]
  },
  {
   "cell_type": "code",
   "execution_count": null,
   "metadata": {},
   "outputs": [],
   "source": []
  }
 ],
 "metadata": {
  "kernelspec": {
   "display_name": "Python 3",
   "language": "python",
   "name": "python3"
  }
 },
 "nbformat": 4,
 "nbformat_minor": 2
}
